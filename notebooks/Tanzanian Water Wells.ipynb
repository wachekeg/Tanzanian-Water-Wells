{
 "cells": [
  {
   "cell_type": "code",
   "execution_count": 1,
   "id": "170a5528",
   "metadata": {},
   "outputs": [],
   "source": [
    "# Introduction"
   ]
  },
  {
   "cell_type": "code",
   "execution_count": 2,
   "id": "f72cb118",
   "metadata": {},
   "outputs": [],
   "source": [
    "# Business Understanding"
   ]
  },
  {
   "cell_type": "code",
   "execution_count": 3,
   "id": "3deb1b77",
   "metadata": {},
   "outputs": [],
   "source": [
    "# Objectives"
   ]
  },
  {
   "cell_type": "code",
   "execution_count": 4,
   "id": "b82bb349",
   "metadata": {},
   "outputs": [],
   "source": [
    "# Data Understanding"
   ]
  },
  {
   "cell_type": "code",
   "execution_count": 5,
   "id": "4d831c54",
   "metadata": {},
   "outputs": [],
   "source": [
    "## Import necessary libraries\n",
    "import pandas as pd\n",
    "import numpy as np\n",
    "import matplotlib.pyplot as plt\n",
    "from sklearn.linear_model import LogisticRegression\n",
    "from sklearn.tree import DecisionTreeClassifier\n",
    "from sklearn.model_selection import train_test_split"
   ]
  },
  {
   "cell_type": "code",
   "execution_count": 6,
   "id": "6b59859c",
   "metadata": {},
   "outputs": [],
   "source": [
    "## Load the data\n",
    "\n",
    "train = pd.read_csv('Data/training_set_values.csv')\n",
    "test = pd.read_csv('Data/test_set_values.csv')\n",
    "train_labels = pd.read_csv('Data/training_set_labels.csv')"
   ]
  },
  {
   "cell_type": "code",
   "execution_count": 7,
   "id": "8bbb0c71",
   "metadata": {},
   "outputs": [],
   "source": [
    "## Merge train set labels and train set values\n",
    "\n",
    "train_merge = pd.merge(train, train_labels, on = 'id')"
   ]
  },
  {
   "cell_type": "code",
   "execution_count": 8,
   "id": "9963e851",
   "metadata": {},
   "outputs": [
    {
     "name": "stdout",
     "output_type": "stream",
     "text": [
      "<class 'pandas.core.frame.DataFrame'>\n",
      "RangeIndex: 59400 entries, 0 to 59399\n",
      "Data columns (total 41 columns):\n",
      " #   Column                 Non-Null Count  Dtype  \n",
      "---  ------                 --------------  -----  \n",
      " 0   id                     59400 non-null  int64  \n",
      " 1   amount_tsh             59400 non-null  float64\n",
      " 2   date_recorded          59400 non-null  object \n",
      " 3   funder                 55763 non-null  object \n",
      " 4   gps_height             59400 non-null  int64  \n",
      " 5   installer              55745 non-null  object \n",
      " 6   longitude              59400 non-null  float64\n",
      " 7   latitude               59400 non-null  float64\n",
      " 8   wpt_name               59398 non-null  object \n",
      " 9   num_private            59400 non-null  int64  \n",
      " 10  basin                  59400 non-null  object \n",
      " 11  subvillage             59029 non-null  object \n",
      " 12  region                 59400 non-null  object \n",
      " 13  region_code            59400 non-null  int64  \n",
      " 14  district_code          59400 non-null  int64  \n",
      " 15  lga                    59400 non-null  object \n",
      " 16  ward                   59400 non-null  object \n",
      " 17  population             59400 non-null  int64  \n",
      " 18  public_meeting         56066 non-null  object \n",
      " 19  recorded_by            59400 non-null  object \n",
      " 20  scheme_management      55522 non-null  object \n",
      " 21  scheme_name            30590 non-null  object \n",
      " 22  permit                 56344 non-null  object \n",
      " 23  construction_year      59400 non-null  int64  \n",
      " 24  extraction_type        59400 non-null  object \n",
      " 25  extraction_type_group  59400 non-null  object \n",
      " 26  extraction_type_class  59400 non-null  object \n",
      " 27  management             59400 non-null  object \n",
      " 28  management_group       59400 non-null  object \n",
      " 29  payment                59400 non-null  object \n",
      " 30  payment_type           59400 non-null  object \n",
      " 31  water_quality          59400 non-null  object \n",
      " 32  quality_group          59400 non-null  object \n",
      " 33  quantity               59400 non-null  object \n",
      " 34  quantity_group         59400 non-null  object \n",
      " 35  source                 59400 non-null  object \n",
      " 36  source_type            59400 non-null  object \n",
      " 37  source_class           59400 non-null  object \n",
      " 38  waterpoint_type        59400 non-null  object \n",
      " 39  waterpoint_type_group  59400 non-null  object \n",
      " 40  status_group           59400 non-null  object \n",
      "dtypes: float64(3), int64(7), object(31)\n",
      "memory usage: 18.6+ MB\n"
     ]
    }
   ],
   "source": [
    "## Check data properties\n",
    "### Training data\n",
    "\n",
    "train_merge.info()"
   ]
  },
  {
   "cell_type": "code",
   "execution_count": 9,
   "id": "d424798d",
   "metadata": {},
   "outputs": [
    {
     "name": "stdout",
     "output_type": "stream",
     "text": [
      "<class 'pandas.core.frame.DataFrame'>\n",
      "RangeIndex: 14850 entries, 0 to 14849\n",
      "Data columns (total 40 columns):\n",
      " #   Column                 Non-Null Count  Dtype  \n",
      "---  ------                 --------------  -----  \n",
      " 0   id                     14850 non-null  int64  \n",
      " 1   amount_tsh             14850 non-null  float64\n",
      " 2   date_recorded          14850 non-null  object \n",
      " 3   funder                 13980 non-null  object \n",
      " 4   gps_height             14850 non-null  int64  \n",
      " 5   installer              13973 non-null  object \n",
      " 6   longitude              14850 non-null  float64\n",
      " 7   latitude               14850 non-null  float64\n",
      " 8   wpt_name               14850 non-null  object \n",
      " 9   num_private            14850 non-null  int64  \n",
      " 10  basin                  14850 non-null  object \n",
      " 11  subvillage             14751 non-null  object \n",
      " 12  region                 14850 non-null  object \n",
      " 13  region_code            14850 non-null  int64  \n",
      " 14  district_code          14850 non-null  int64  \n",
      " 15  lga                    14850 non-null  object \n",
      " 16  ward                   14850 non-null  object \n",
      " 17  population             14850 non-null  int64  \n",
      " 18  public_meeting         14029 non-null  object \n",
      " 19  recorded_by            14850 non-null  object \n",
      " 20  scheme_management      13881 non-null  object \n",
      " 21  scheme_name            7608 non-null   object \n",
      " 22  permit                 14113 non-null  object \n",
      " 23  construction_year      14850 non-null  int64  \n",
      " 24  extraction_type        14850 non-null  object \n",
      " 25  extraction_type_group  14850 non-null  object \n",
      " 26  extraction_type_class  14850 non-null  object \n",
      " 27  management             14850 non-null  object \n",
      " 28  management_group       14850 non-null  object \n",
      " 29  payment                14850 non-null  object \n",
      " 30  payment_type           14850 non-null  object \n",
      " 31  water_quality          14850 non-null  object \n",
      " 32  quality_group          14850 non-null  object \n",
      " 33  quantity               14850 non-null  object \n",
      " 34  quantity_group         14850 non-null  object \n",
      " 35  source                 14850 non-null  object \n",
      " 36  source_type            14850 non-null  object \n",
      " 37  source_class           14850 non-null  object \n",
      " 38  waterpoint_type        14850 non-null  object \n",
      " 39  waterpoint_type_group  14850 non-null  object \n",
      "dtypes: float64(3), int64(7), object(30)\n",
      "memory usage: 4.5+ MB\n"
     ]
    }
   ],
   "source": [
    "### testing data \n",
    "\n",
    "test.info()"
   ]
  },
  {
   "cell_type": "code",
   "execution_count": 10,
   "id": "f43a5322",
   "metadata": {},
   "outputs": [
    {
     "data": {
      "text/plain": [
       "status_group\n",
       "functional                 32259\n",
       "non functional             22824\n",
       "functional needs repair     4317\n",
       "Name: count, dtype: int64"
      ]
     },
     "execution_count": 10,
     "metadata": {},
     "output_type": "execute_result"
    }
   ],
   "source": [
    "## Total number of functional and un-functional wells\n",
    "\n",
    "train_merge.status_group.value_counts()"
   ]
  },
  {
   "cell_type": "code",
   "execution_count": 11,
   "id": "5272462d",
   "metadata": {},
   "outputs": [],
   "source": [
    "# Data Preparation"
   ]
  },
  {
   "cell_type": "code",
   "execution_count": 12,
   "id": "bcca6938",
   "metadata": {},
   "outputs": [],
   "source": [
    "## Data Cleaning"
   ]
  },
  {
   "cell_type": "markdown",
   "id": "f7816363",
   "metadata": {},
   "source": [
    "### 1. Removing unnecessary columns\n",
    "\n",
    "Several columns are first removed for various reasons.\n",
    "\n",
    "- **id** is not a meaningful predictor\n",
    "- **amount_tsh** is mostly blank\n",
    "- **recorded_by** has only one unique value and therefore does not provide any variability\n",
    "- **num_private** mostly has zeros as entries\n",
    "- **scheme_name** is has alot of missing values (50%) and will therefore be dropped\n",
    "- The following columns have similar information, which will lead to multicollinearity. So we will keep one of each:\n",
    "    - **region, region_code**\n",
    "    - **extraction_type_group, extraction_type_group, extraction_type_class**\n",
    "    - **payment, payment_type**\n",
    "    - **quantity, quantity_group**\n",
    "    - **source, source_type**\n",
    "    - **waterpoint_type, waterpoint_type_group**\n",
    "    - **water_quality, quality_group**\n",
    "    "
   ]
  },
  {
   "cell_type": "code",
   "execution_count": 13,
   "id": "9d5232d1",
   "metadata": {},
   "outputs": [
    {
     "name": "stdout",
     "output_type": "stream",
     "text": [
      "False    59400\n",
      "Name: count, dtype: int64\n",
      "False    14850\n",
      "Name: count, dtype: int64\n"
     ]
    }
   ],
   "source": [
    "#Checking for duplicates\n",
    "print(train_merge.duplicated(subset = ['id']).value_counts())\n",
    "print(test.duplicated(subset = ['id']).value_counts())"
   ]
  },
  {
   "cell_type": "code",
   "execution_count": 14,
   "id": "debd2269",
   "metadata": {},
   "outputs": [],
   "source": [
    "columns_to_remove = ['id','amount_tsh', 'recorded_by', 'num_private', 'region', 'quantity', 'quality_group', 'source_type', 'payment', \n",
    "          'waterpoint_type_group', 'scheme_name', 'extraction_type_group']\n",
    "\n",
    "train_merge = train_merge.drop(columns_to_remove, axis =1)\n",
    "test = test.drop(columns_to_remove, axis =1)"
   ]
  },
  {
   "cell_type": "markdown",
   "id": "26b429e2",
   "metadata": {},
   "source": [
    "### 2. Changing the datatype\n",
    "\n",
    "'date_recorded' has an **object** datatype, we will change this to **datetime** datatype"
   ]
  },
  {
   "cell_type": "code",
   "execution_count": 15,
   "id": "0e98c4b5",
   "metadata": {},
   "outputs": [],
   "source": [
    "train_merge['date_recorded'] = pd.to_datetime(train_merge['date_recorded'])\n",
    "test['date_recorded'] = pd.to_datetime(test['date_recorded'])"
   ]
  },
  {
   "cell_type": "markdown",
   "id": "28cc3e07",
   "metadata": {},
   "source": [
    "### 3.Imputing Missing Construction Year Values with the median"
   ]
  },
  {
   "cell_type": "code",
   "execution_count": 16,
   "id": "69256d81",
   "metadata": {},
   "outputs": [],
   "source": [
    "median_year = train_merge['construction_year'].median()\n",
    "train_merge['construction_year'] = train_merge['construction_year'].replace(0, median_year)\n",
    "test['construction_year'] = test['construction_year'].replace(0, median_year)"
   ]
  },
  {
   "cell_type": "markdown",
   "id": "e50a4423",
   "metadata": {},
   "source": [
    "### 3. Creating a new column 'well_age'"
   ]
  },
  {
   "cell_type": "code",
   "execution_count": 17,
   "id": "51c9c97b",
   "metadata": {},
   "outputs": [],
   "source": [
    "train_merge['well_age'] = train_merge['date_recorded'].dt.year - train_merge['construction_year']\n",
    "test['well_age'] = test['date_recorded'].dt.year - test['construction_year']"
   ]
  },
  {
   "cell_type": "markdown",
   "id": "aa31dbb3",
   "metadata": {},
   "source": [
    "### 4. Filling missing values for specified categorical columns"
   ]
  },
  {
   "cell_type": "code",
   "execution_count": 18,
   "id": "889d3c40",
   "metadata": {},
   "outputs": [
    {
     "name": "stdout",
     "output_type": "stream",
     "text": [
      "date_recorded \n",
      " date_recorded\n",
      "2011-03-15    0.009630\n",
      "2011-03-17    0.009394\n",
      "2013-02-03    0.009192\n",
      "2011-03-14    0.008754\n",
      "2011-03-16    0.008636\n",
      "Name: proportion, dtype: float64 \n",
      "\n",
      "\n",
      "funder \n",
      " funder\n",
      "Government Of Tanzania    0.162904\n",
      "Danida                    0.055843\n",
      "Hesawa                    0.039489\n",
      "Rwssp                     0.024640\n",
      "World Bank                0.024192\n",
      "Name: proportion, dtype: float64 \n",
      "\n",
      "\n",
      "gps_height \n",
      " gps_height\n",
      " 0       0.344074\n",
      "-15      0.001010\n",
      "-16      0.000926\n",
      "-13      0.000926\n",
      " 1290    0.000875\n",
      "Name: proportion, dtype: float64 \n",
      "\n",
      "\n",
      "installer \n",
      " installer\n",
      "DWE           0.312171\n",
      "Government    0.032738\n",
      "RWE           0.021634\n",
      "Commu         0.019015\n",
      "DANIDA        0.018836\n",
      "Name: proportion, dtype: float64 \n",
      "\n",
      "\n",
      "longitude \n",
      " longitude\n",
      "0.000000     0.030505\n",
      "37.375717    0.000034\n",
      "38.340501    0.000034\n",
      "39.086183    0.000034\n",
      "33.005032    0.000034\n",
      "Name: proportion, dtype: float64 \n",
      "\n",
      "\n",
      "latitude \n",
      " latitude\n",
      "-2.000000e-08    0.030505\n",
      "-6.985842e+00    0.000034\n",
      "-6.980220e+00    0.000034\n",
      "-2.476680e+00    0.000034\n",
      "-6.978263e+00    0.000034\n",
      "Name: proportion, dtype: float64 \n",
      "\n",
      "\n",
      "wpt_name \n",
      " wpt_name\n",
      "none         0.059985\n",
      "Shuleni      0.029429\n",
      "Zahanati     0.013974\n",
      "Msikitini    0.009007\n",
      "Kanisani     0.005438\n",
      "Name: proportion, dtype: float64 \n",
      "\n",
      "\n",
      "basin \n",
      " basin\n",
      "Lake Victoria      0.172525\n",
      "Pangani            0.150505\n",
      "Rufiji             0.134276\n",
      "Internal           0.131061\n",
      "Lake Tanganyika    0.108283\n",
      "Name: proportion, dtype: float64 \n",
      "\n",
      "\n",
      "subvillage \n",
      " subvillage\n",
      "Madukani    0.008606\n",
      "Shuleni     0.008572\n",
      "Majengo     0.008504\n",
      "Kati        0.006319\n",
      "Mtakuja     0.004438\n",
      "Name: proportion, dtype: float64 \n",
      "\n",
      "\n",
      "region_code \n",
      " region_code\n",
      "11    0.089226\n",
      "17    0.084360\n",
      "12    0.078098\n",
      "3     0.073721\n",
      "5     0.068013\n",
      "Name: proportion, dtype: float64 \n",
      "\n",
      "\n",
      "district_code \n",
      " district_code\n",
      "1    0.205438\n",
      "2    0.188098\n",
      "3    0.168316\n",
      "4    0.151498\n",
      "5    0.073333\n",
      "Name: proportion, dtype: float64 \n",
      "\n",
      "\n",
      "lga \n",
      " lga\n",
      "Njombe          0.042138\n",
      "Arusha Rural    0.021077\n",
      "Moshi Rural     0.021061\n",
      "Bariadi         0.019815\n",
      "Rungwe          0.018620\n",
      "Name: proportion, dtype: float64 \n",
      "\n",
      "\n",
      "ward \n",
      " ward\n",
      "Igosi        0.005168\n",
      "Imalinyi     0.004242\n",
      "Siha Kati    0.003906\n",
      "Mdandu       0.003889\n",
      "Nduruma      0.003653\n",
      "Name: proportion, dtype: float64 \n",
      "\n",
      "\n",
      "population \n",
      " population\n",
      "0      0.359949\n",
      "1      0.118266\n",
      "200    0.032660\n",
      "150    0.031852\n",
      "250    0.028300\n",
      "Name: proportion, dtype: float64 \n",
      "\n",
      "\n",
      "public_meeting \n",
      " public_meeting\n",
      "True     0.909838\n",
      "False    0.090162\n",
      "Name: proportion, dtype: float64 \n",
      "\n",
      "\n",
      "scheme_management \n",
      " scheme_management\n",
      "VWC                0.662674\n",
      "WUG                0.093765\n",
      "Water authority    0.056788\n",
      "WUA                0.051925\n",
      "Water Board        0.049494\n",
      "Name: proportion, dtype: float64 \n",
      "\n",
      "\n",
      "permit \n",
      " permit\n",
      "True     0.68955\n",
      "False    0.31045\n",
      "Name: proportion, dtype: float64 \n",
      "\n",
      "\n",
      "construction_year \n",
      " construction_year\n",
      "1986    0.355943\n",
      "2010    0.044529\n",
      "2008    0.043990\n",
      "2009    0.042643\n",
      "2000    0.035202\n",
      "Name: proportion, dtype: float64 \n",
      "\n",
      "\n",
      "extraction_type \n",
      " extraction_type\n",
      "gravity        0.450842\n",
      "nira/tanira    0.137273\n",
      "other          0.108249\n",
      "submersible    0.080202\n",
      "swn 80         0.061785\n",
      "Name: proportion, dtype: float64 \n",
      "\n",
      "\n",
      "extraction_type_class \n",
      " extraction_type_class\n",
      "gravity        0.450842\n",
      "handpump       0.277037\n",
      "other          0.108249\n",
      "submersible    0.104024\n",
      "motorpump      0.050286\n",
      "Name: proportion, dtype: float64 \n",
      "\n",
      "\n",
      "management \n",
      " management\n",
      "vwc                 0.681936\n",
      "wug                 0.109680\n",
      "water board         0.049377\n",
      "wua                 0.042677\n",
      "private operator    0.033182\n",
      "Name: proportion, dtype: float64 \n",
      "\n",
      "\n",
      "management_group \n",
      " management_group\n",
      "user-group    0.883670\n",
      "commercial    0.061246\n",
      "parastatal    0.029764\n",
      "other         0.015875\n",
      "unknown       0.009444\n",
      "Name: proportion, dtype: float64 \n",
      "\n",
      "\n",
      "payment_type \n",
      " payment_type\n",
      "never pay     0.426734\n",
      "per bucket    0.151263\n",
      "monthly       0.139731\n",
      "unknown       0.137323\n",
      "on failure    0.065892\n",
      "Name: proportion, dtype: float64 \n",
      "\n",
      "\n",
      "water_quality \n",
      " water_quality\n",
      "soft        0.855522\n",
      "salty       0.081751\n",
      "unknown     0.031582\n",
      "milky       0.013535\n",
      "coloured    0.008249\n",
      "Name: proportion, dtype: float64 \n",
      "\n",
      "\n",
      "quantity_group \n",
      " quantity_group\n",
      "enough          0.558687\n",
      "insufficient    0.254697\n",
      "dry             0.105152\n",
      "seasonal        0.068182\n",
      "unknown         0.013283\n",
      "Name: proportion, dtype: float64 \n",
      "\n",
      "\n",
      "source \n",
      " source\n",
      "spring                  0.286549\n",
      "shallow well            0.283232\n",
      "machine dbh             0.186448\n",
      "river                   0.161818\n",
      "rainwater harvesting    0.038636\n",
      "Name: proportion, dtype: float64 \n",
      "\n",
      "\n",
      "source_class \n",
      " source_class\n",
      "groundwater    0.770943\n",
      "surface        0.224377\n",
      "unknown        0.004680\n",
      "Name: proportion, dtype: float64 \n",
      "\n",
      "\n",
      "waterpoint_type \n",
      " waterpoint_type\n",
      "communal standpipe             0.480168\n",
      "hand pump                      0.294411\n",
      "other                          0.107407\n",
      "communal standpipe multiple    0.102744\n",
      "improved spring                0.013199\n",
      "Name: proportion, dtype: float64 \n",
      "\n",
      "\n",
      "status_group \n",
      " status_group\n",
      "functional                 0.543081\n",
      "non functional             0.384242\n",
      "functional needs repair    0.072677\n",
      "Name: proportion, dtype: float64 \n",
      "\n",
      "\n",
      "well_age \n",
      " well_age\n",
      "25    0.234444\n",
      "26    0.096481\n",
      "27    0.050034\n",
      "3     0.046128\n",
      "1     0.038771\n",
      "Name: proportion, dtype: float64 \n",
      "\n",
      "\n"
     ]
    }
   ],
   "source": [
    "#Checking for placeholder values\n",
    "for col in train_merge.columns:\n",
    "    print(col, '\\n', train_merge[col].value_counts(normalize=True).head(), '\\n\\n')"
   ]
  },
  {
   "cell_type": "code",
   "execution_count": 19,
   "id": "80b45f31",
   "metadata": {},
   "outputs": [
    {
     "data": {
      "image/png": "[encoded data removed]",
      "text/plain": [
       "<Figure size 1000x600 with 1 Axes>"
      ]
     },
     "metadata": {},
     "output_type": "display_data"
    }
   ],
   "source": [
    "#Checking for outliers\n",
    "train_merge[['population']].boxplot(figsize=(10, 6))\n",
    "plt.show()"
   ]
  },
  {
   "cell_type": "code",
   "execution_count": 20,
   "id": "084fc493",
   "metadata": {},
   "outputs": [
    {
     "name": "stdout",
     "output_type": "stream",
     "text": [
      "Outliers detected using IQR method:\n",
      "population    4383\n",
      "dtype: int64\n"
     ]
    }
   ],
   "source": [
    "# Calculate Q1 (25th percentile) and Q3 (75th percentile)\n",
    "Q1 = train_merge[['population']].quantile(0.25)\n",
    "Q3 = train_merge[['population']].quantile(0.75)\n",
    "IQR = Q3 - Q1\n",
    "\n",
    "# Identify outliers\n",
    "outliers_train = ((train_merge[['population']] < (Q1 - 1.5 * IQR)) | (train_merge[['population']] > (Q3 + 1.5 * IQR)))\n",
    "\n",
    "print(\"Outliers detected using IQR method:\")\n",
    "print(outliers_train.sum())"
   ]
  },
  {
   "cell_type": "code",
   "execution_count": 21,
   "id": "dd633692",
   "metadata": {},
   "outputs": [
    {
     "name": "stdout",
     "output_type": "stream",
     "text": [
      "Outliers detected using IQR method:\n",
      "population    1070\n",
      "dtype: int64\n"
     ]
    }
   ],
   "source": [
    "# Calculate Q1 (25th percentile) and Q3 (75th percentile)\n",
    "Q1 = test[['population']].quantile(0.25)\n",
    "Q3 = test[['population']].quantile(0.75)\n",
    "IQR = Q3 - Q1\n",
    "\n",
    "# Identify outliers\n",
    "outliers_test = ((test[['population']] < (Q1 - 1.5 * IQR)) | (test[['population']] > (Q3 + 1.5 * IQR)))\n",
    "\n",
    "print(\"Outliers detected using IQR method:\")\n",
    "print(outliers_test.sum())"
   ]
  },
  {
   "cell_type": "code",
   "execution_count": 22,
   "id": "624f8a40",
   "metadata": {},
   "outputs": [],
   "source": [
    "# Remove outliers from training data\n",
    "train_merge = train_merge[~((train_merge[['population']] < (Q1 - 1.5 * IQR)) | \n",
    "                                           (train_merge[['population']] > (Q3 + 1.5 * IQR))).any(axis=1)]"
   ]
  },
  {
   "cell_type": "code",
   "execution_count": 23,
   "id": "3724cf46",
   "metadata": {},
   "outputs": [],
   "source": [
    "# Remove outliers from test data\n",
    "test = test[~((test[['population']] < (Q1 - 1.5 * IQR)) | \n",
    "                                           (test[['population']] > (Q3 + 1.5 * IQR))).any(axis=1)]"
   ]
  },
  {
   "cell_type": "code",
   "execution_count": 24,
   "id": "7bea8635",
   "metadata": {
    "scrolled": true
   },
   "outputs": [
    {
     "data": {
      "image/png": "[encoded data removed]",
      "text/plain": [
       "<Figure size 1000x600 with 1 Axes>"
      ]
     },
     "metadata": {},
     "output_type": "display_data"
    }
   ],
   "source": [
    "#Checking for outliers\n",
    "train_merge[['population']].boxplot(figsize=(10, 6))\n",
    "plt.show()"
   ]
  },
  {
   "cell_type": "code",
   "execution_count": 25,
   "id": "d7a3256e",
   "metadata": {},
   "outputs": [
    {
     "data": {
      "image/png": "[encoded data removed]",
      "text/plain": [
       "<Figure size 1000x600 with 1 Axes>"
      ]
     },
     "metadata": {},
     "output_type": "display_data"
    }
   ],
   "source": [
    "#Checking for outliers\n",
    "test[['population']].boxplot(figsize=(10, 6))\n",
    "plt.show()"
   ]
  },
  {
   "cell_type": "code",
   "execution_count": 26,
   "id": "bd159566",
   "metadata": {},
   "outputs": [
    {
     "data": {
      "image/png": "[encoded data removed]",
      "text/plain": [
       "<Figure size 1000x600 with 1 Axes>"
      ]
     },
     "metadata": {},
     "output_type": "display_data"
    }
   ],
   "source": [
    "# Histograms for each feature\n",
    "train_merge[['population']].hist(bins=30, figsize=(10, 6))\n",
    "plt.show()"
   ]
  },
  {
   "cell_type": "code",
   "execution_count": 27,
   "id": "a2179f41",
   "metadata": {},
   "outputs": [
    {
     "data": {
      "image/png": "[encoded data removed]",
      "text/plain": [
       "<Figure size 1000x600 with 1 Axes>"
      ]
     },
     "metadata": {},
     "output_type": "display_data"
    }
   ],
   "source": [
    "# Histograms for each feature\n",
    "test[['population']].hist(bins=30, figsize=(10, 6))\n",
    "plt.show()"
   ]
  },
  {
   "cell_type": "code",
   "execution_count": 28,
   "id": "891c8657",
   "metadata": {},
   "outputs": [
    {
     "name": "stdout",
     "output_type": "stream",
     "text": [
      "date_recorded               0\n",
      "funder                   3516\n",
      "gps_height                  0\n",
      "installer                3534\n",
      "longitude                   0\n",
      "latitude                    0\n",
      "wpt_name                    2\n",
      "basin                       0\n",
      "subvillage                366\n",
      "region_code                 0\n",
      "district_code               0\n",
      "lga                         0\n",
      "ward                        0\n",
      "population                  0\n",
      "public_meeting           3072\n",
      "scheme_management        3395\n",
      "permit                   2804\n",
      "construction_year           0\n",
      "extraction_type             0\n",
      "extraction_type_class       0\n",
      "management                  0\n",
      "management_group            0\n",
      "payment_type                0\n",
      "water_quality               0\n",
      "quantity_group              0\n",
      "source                      0\n",
      "source_class                0\n",
      "waterpoint_type             0\n",
      "status_group                0\n",
      "well_age                    0\n",
      "dtype: int64\n",
      "date_recorded              0\n",
      "funder                   839\n",
      "gps_height                 0\n",
      "installer                848\n",
      "longitude                  0\n",
      "latitude                   0\n",
      "wpt_name                   0\n",
      "basin                      0\n",
      "subvillage                99\n",
      "region_code                0\n",
      "district_code              0\n",
      "lga                        0\n",
      "ward                       0\n",
      "population                 0\n",
      "public_meeting           753\n",
      "scheme_management        848\n",
      "permit                   667\n",
      "construction_year          0\n",
      "extraction_type            0\n",
      "extraction_type_class      0\n",
      "management                 0\n",
      "management_group           0\n",
      "payment_type               0\n",
      "water_quality              0\n",
      "quantity_group             0\n",
      "source                     0\n",
      "source_class               0\n",
      "waterpoint_type            0\n",
      "well_age                   0\n",
      "dtype: int64\n"
     ]
    }
   ],
   "source": [
    "# Check missing values\n",
    "\n",
    "print(train_merge.isnull().sum())\n",
    "print(test.isnull().sum())"
   ]
  },
  {
   "cell_type": "code",
   "execution_count": 29,
   "id": "9f0af909",
   "metadata": {},
   "outputs": [],
   "source": [
    "fill = {\n",
    "    'funder': 'Unknown',\n",
    "    'installer': 'Unknown',\n",
    "    'scheme_management': 'Unknown',\n",
    "    'wpt_name': 'Unknown',\n",
    "    'subvillage': 'Unknown',\n",
    "    'permit': 'False',\n",
    "    'public_meeting': 'False'\n",
    "}\n",
    "\n",
    "train_merge.fillna(value = fill, inplace=True)\n",
    "test.fillna(value = fill, inplace = True)"
   ]
  },
  {
   "cell_type": "code",
   "execution_count": null,
   "id": "d86d756d",
   "metadata": {},
   "outputs": [],
   "source": []
  },
  {
   "cell_type": "code",
   "execution_count": 30,
   "id": "16a9a937",
   "metadata": {},
   "outputs": [
    {
     "data": {
      "image/png": "[encoded data removed]",
      "text/plain": [
       "<Figure size 640x480 with 1 Axes>"
      ]
     },
     "metadata": {},
     "output_type": "display_data"
    }
   ],
   "source": [
    "import matplotlib.pyplot as plt\n",
    "import seaborn as sns\n",
    "\n",
    "sns.histplot(train_merge['population'], kde=True)\n",
    "plt.show()\n"
   ]
  },
  {
   "cell_type": "code",
   "execution_count": 31,
   "id": "8bca8ec0",
   "metadata": {},
   "outputs": [],
   "source": [
    "## Define target variable and predictors"
   ]
  },
  {
   "cell_type": "code",
   "execution_count": 32,
   "id": "a95dacce",
   "metadata": {},
   "outputs": [],
   "source": [
    "#y = train_merge['status_group']\n",
    "#X = train_merge.drop (columns = 'status_group')"
   ]
  },
  {
   "cell_type": "code",
   "execution_count": null,
   "id": "c3428618",
   "metadata": {},
   "outputs": [],
   "source": []
  },
  {
   "cell_type": "code",
   "execution_count": 33,
   "id": "06fff80f",
   "metadata": {},
   "outputs": [],
   "source": [
    "# Exploratory Data Analysis"
   ]
  },
  {
   "cell_type": "code",
   "execution_count": 34,
   "id": "d133d59e",
   "metadata": {},
   "outputs": [],
   "source": [
    "# Modelling"
   ]
  },
  {
   "cell_type": "code",
   "execution_count": 35,
   "id": "66315e44",
   "metadata": {},
   "outputs": [],
   "source": [
    "# Evaluation"
   ]
  },
  {
   "cell_type": "code",
   "execution_count": 36,
   "id": "8166af4f",
   "metadata": {},
   "outputs": [],
   "source": [
    "# Conclusion"
   ]
  },
  {
   "cell_type": "code",
   "execution_count": null,
   "id": "ed95c817",
   "metadata": {},
   "outputs": [],
   "source": []
  }
 ],
 "metadata": {
  "kernelspec": {
   "display_name": "Python (learn-env)",
   "language": "python",
   "name": "learn-env"
  },
  "language_info": {
   "codemirror_mode": {
    "name": "ipython",
    "version": 3
   },
   "file_extension": ".py",
   "mimetype": "text/x-python",
   "name": "python",
   "nbconvert_exporter": "python",
   "pygments_lexer": "ipython3",
   "version": "3.11.9"
  }
 },
 "nbformat": 4,
 "nbformat_minor": 5
}
